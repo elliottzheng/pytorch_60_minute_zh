{
 "cells": [
  {
   "cell_type": "code",
   "execution_count": null,
   "metadata": {
    "collapsed": true
   },
   "outputs": [],
   "source": [
    "%matplotlib inline"
   ]
  },
  {
   "cell_type": "markdown",
   "metadata": {},
   "source": [
    "\n",
    "神经网络\n",
    "===============\n",
    "\n",
    "可以使用`torch.nn`包构建神经网络。\n",
    "\n",
    "现在您已经了解了`autograd`，`nn`依赖于`autograd`来定义模型并进行微分。`nn.Module`包含层，以及返回`output`的`forward(input)`方法。\n",
    "\n",
    "\n",
    "例如，查看对数字图像进行分类的网络：\n",
    "\n",
    "![convnet](https://ptorch.com/uploads/2017072622594219139.jpg\n",
    ")\n",
    "\n",
    "它是一个简单的前馈网络。它接受输入，一个接一个地通过几个层输入，然后最终给出输出。\n",
    "\n",
    "\n",
    "\n",
    "一个典型的神经网络的训练过程如下：\n",
    "\n",
    "- 定义具有一些可学习参数（或权重）的神经网络\n",
    "- 迭代输入数据集\n",
    "- 通过网络处理输入\n",
    "- 计算损失（输出距离正确多远）\n",
    "- 将梯度传播回网络参数\n",
    "- 通常使用简单的更新规则更新网络权重：\n",
    "  ``weight = weight - learning_rate * gradient``\n",
    "\n",
    "定义网络\n",
    "------------------\n",
    "\n",
    "我们来定义这个网络：\n",
    "\n"
   ]
  },
  {
   "cell_type": "code",
   "execution_count": 1,
   "metadata": {},
   "outputs": [
    {
     "name": "stdout",
     "output_type": "stream",
     "text": [
      "Net(\n",
      "  (conv1): Conv2d(1, 6, kernel_size=(5, 5), stride=(1, 1))\n",
      "  (conv2): Conv2d(6, 16, kernel_size=(5, 5), stride=(1, 1))\n",
      "  (fc1): Linear(in_features=400, out_features=120, bias=True)\n",
      "  (fc2): Linear(in_features=120, out_features=84, bias=True)\n",
      "  (fc3): Linear(in_features=84, out_features=10, bias=True)\n",
      ")\n"
     ]
    }
   ],
   "source": [
    "import torch\n",
    "import torch.nn as nn\n",
    "import torch.nn.functional as F\n",
    "\n",
    "\n",
    "class Net(nn.Module):\n",
    "\n",
    "    def __init__(self):\n",
    "        super(Net, self).__init__()\n",
    "        # 1 input image channel, 6 output channels, 5x5 square convolution\n",
    "        # kernel\n",
    "        self.conv1 = nn.Conv2d(1, 6, 5)\n",
    "        self.conv2 = nn.Conv2d(6, 16, 5)\n",
    "        # an affine operation: y = Wx + b\n",
    "        self.fc1 = nn.Linear(16 * 5 * 5, 120)\n",
    "        self.fc2 = nn.Linear(120, 84)\n",
    "        self.fc3 = nn.Linear(84, 10)\n",
    "\n",
    "    def forward(self, x):\n",
    "        # Max pooling over a (2, 2) window\n",
    "        x = F.max_pool2d(F.relu(self.conv1(x)), (2, 2))\n",
    "        # If the size is a square you can only specify a single number\n",
    "        x = F.max_pool2d(F.relu(self.conv2(x)), 2)\n",
    "        x = x.view(-1, self.num_flat_features(x))\n",
    "        x = F.relu(self.fc1(x))\n",
    "        x = F.relu(self.fc2(x))\n",
    "        x = self.fc3(x)\n",
    "        return x\n",
    "\n",
    "    def num_flat_features(self, x):\n",
    "        size = x.size()[1:]  # all dimensions except the batch dimension\n",
    "        num_features = 1\n",
    "        for s in size:\n",
    "            num_features *= s\n",
    "        return num_features\n",
    "\n",
    "\n",
    "net = Net()\n",
    "print(net)"
   ]
  },
  {
   "cell_type": "markdown",
   "metadata": {},
   "source": [
    "\n",
    "\n",
    "您只需定义`forward`函数，`autograd`会自动为您定义`backward`函数（在其中计算梯度）。您可以在`forward()`函数中使用任何Tensor操作。\n",
    "\n",
    "模型的可学习参数由``net.parameters()``返回\n",
    "\n",
    "\n"
   ]
  },
  {
   "cell_type": "code",
   "execution_count": 2,
   "metadata": {},
   "outputs": [
    {
     "name": "stdout",
     "output_type": "stream",
     "text": [
      "10\n",
      "torch.Size([6, 1, 5, 5])\n"
     ]
    }
   ],
   "source": [
    "params = list(net.parameters())\n",
    "print(len(params))\n",
    "print(params[0].size())  # conv1's .weight"
   ]
  },
  {
   "cell_type": "markdown",
   "metadata": {},
   "source": [
    "\n",
    "让我们尝试随机的32x32输入\n",
    "\n",
    "注意：此网络（LeNet）的预期输入大小为32x32。要在MNIST数据集上使用此网络，请将数据集中的图像大小调整为32x32。\n",
    "\n"
   ]
  },
  {
   "cell_type": "code",
   "execution_count": 3,
   "metadata": {},
   "outputs": [
    {
     "name": "stdout",
     "output_type": "stream",
     "text": [
      "tensor([[-0.0800, -0.0182,  0.0196, -0.0267, -0.0779, -0.1084,  0.0022,\n",
      "         -0.1306,  0.1187,  0.0275]])\n"
     ]
    }
   ],
   "source": [
    "input = torch.randn(1, 1, 32, 32)\n",
    "out = net(input)\n",
    "print(out)"
   ]
  },
  {
   "cell_type": "markdown",
   "metadata": {},
   "source": [
    "\n",
    "使用随机梯度将所有参数和反向传播的梯度缓冲区归零：\n",
    "\n"
   ]
  },
  {
   "cell_type": "code",
   "execution_count": 4,
   "metadata": {
    "collapsed": true
   },
   "outputs": [],
   "source": [
    "net.zero_grad()\n",
    "out.backward(torch.randn(1, 10))"
   ]
  },
  {
   "cell_type": "markdown",
   "metadata": {},
   "source": [
    "<div class=\"alert alert-info\"><h4>注意</h4><p>``torch.nn`` 支持 mini-batches. 整个``torch.nn``\n",
    "    package仅支持小批量样本的输入，而不支持单个样本。\n",
    "\n",
    "    举个例子， ``nn.Conv2d`` 以一个4D Tensor \n",
    "    ``nSamples x nChannels x Height x Width``为输入。\n",
    "\n",
    "    如果您有一个样本，只需使用``input.unsqueeze(0)``添加假批量维度。\n",
    "</p></div>\n",
    "\n",
    "在继续之前，让我们回顾一下你到目前为止看到的所有课程。\n",
    "\n",
    "**回顾：**\n",
    "  - ``torch.Tensor``  - 一个支持autograd操作例如``backward()``的多维数组*，*也根据张量维持梯度* 。\n",
    "\n",
    "  -  ``nn.Module`` - 神经网络模块。**方便的封装参数的方法**，使用帮助程序将它们移动到GPU，导出，加载等。\n",
    "\n",
    "  -  ``nn.Parameter`` - 一种Tensor，当被指定为``Module``的属性时，它会自动注册为Parameter。\n",
    "\n",
    "  -  ``autograd.Function`` - 实现自动求导操作的**Forward和Backward定义**。每个``Tensor``操作，至少创建一个``Function``节点，它连接到创建``Tensor``和*编码其历史*的函数。\n",
    "\n",
    "\n",
    "**At this point, we covered:**\n",
    "  -  定义神经网络\n",
    "  -  处理输入并向后调用\n",
    "\n",
    "\n",
    "**Still Left:**\n",
    "  -  计算损失\n",
    "  -  更新网络权重\n",
    "\n",
    "损失函数\n",
    "-------------\n",
    "损失函数采用（输出，目标）输入对，并计算估计输出距目标的距离的值。\n",
    "\n",
    "\n",
    "有几种不同\n",
    "`损失函数 <http://pytorch.org/docs/nn.html#loss-functions>`_ 在nn包下。\n",
    "\n",
    "一个简单的损失是：``nn.MSELoss``，它计算输入和目标之间的均方误差。\n",
    "\n",
    "例如：\n",
    "\n"
   ]
  },
  {
   "cell_type": "code",
   "execution_count": 5,
   "metadata": {},
   "outputs": [
    {
     "name": "stdout",
     "output_type": "stream",
     "text": [
      "tensor(0.3080)\n"
     ]
    }
   ],
   "source": [
    "output = net(input)\n",
    "target = torch.randn(10)  # 例如，虚拟目标\n",
    "target = target.view(1, -1)  # 使其与输出形状相同\n",
    "criterion = nn.MSELoss()\n",
    "\n",
    "loss = criterion(output, target)\n",
    "print(loss)"
   ]
  },
  {
   "cell_type": "markdown",
   "metadata": {},
   "source": [
    "现在，如果你在Backward方向上跟踪``loss``，使用它的``.grad_fn``属性，你会看到一个如下所示的计算图：\n",
    "\n",
    "\n",
    "::\n",
    "\n",
    "    input -> conv2d -> relu -> maxpool2d -> conv2d -> relu -> maxpool2d\n",
    "          -> view -> linear -> relu -> linear -> relu -> linear\n",
    "          -> MSELoss\n",
    "          -> loss\n",
    "\n",
    "So, when we call ``loss.backward()``, the whole graph is differentiated\n",
    "w.r.t. the loss, and all Tensors in the graph that has ``requires_grad=True``\n",
    "will have their ``.grad`` Tensor accumulated with the gradient.\n",
    "\n",
    "因此，当我们调用``loss.backward（）``时，整个图对损失微分，图中所有具``requires_grad = True``的张量将会有梯度累积的``.grad``张量。\n",
    "\n",
    "\n",
    "\n",
    "为了说明，让我们跟随几步反向传播：\n",
    "\n",
    "\n"
   ]
  },
  {
   "cell_type": "code",
   "execution_count": null,
   "metadata": {
    "collapsed": true
   },
   "outputs": [],
   "source": [
    "print(loss.grad_fn)  # MSELoss\n",
    "print(loss.grad_fn.next_functions[0][0])  # Linear\n",
    "print(loss.grad_fn.next_functions[0][0].next_functions[0][0])  # ReLU"
   ]
  },
  {
   "cell_type": "markdown",
   "metadata": {},
   "source": [
    "反向传播\n",
    "--------\n",
    "要反向传播误差，我们所要做的就是``lost.backward（）``。您需要清除现有梯度，否则梯度将累积到现有梯度。\n",
    "\n",
    "\n",
    "\n",
    "现在我们将调用``loss.backward（）``，并查看conv1在反向传播之前和之后的梯度偏差。\n",
    "\n",
    "\n"
   ]
  },
  {
   "cell_type": "code",
   "execution_count": null,
   "metadata": {
    "collapsed": true
   },
   "outputs": [],
   "source": [
    "net.zero_grad()     # 将所有参数的梯度缓冲区归零\n",
    "\n",
    "print('conv1.bias.grad before backward')\n",
    "print(net.conv1.bias.grad)\n",
    "\n",
    "loss.backward()\n",
    "\n",
    "print('conv1.bias.grad after backward')\n",
    "print(net.conv1.bias.grad)"
   ]
  },
  {
   "cell_type": "markdown",
   "metadata": {},
   "source": [
    "现在，我们已经看到了如何使用损失函数。\n",
    "\n",
    "**进一步阅读:**\n",
    "\n",
    "  神经网络包包含形成深度神经网络构建块的各种模块和损失函数。带有文档的完整列表是`here <http://pytorch.org/docs/nn>`_。\n",
    "\n",
    "\n",
    "**最后要学习的是:**\n",
    "\n",
    "  - 更新网络权重\n",
    "\n",
    "更新权重\n",
    "------------------\n",
    "实践中使用的最简单的更新规则是随机梯度下降（SGD）：\n",
    "\n",
    "     ``weight = weight - learning_rate * gradient``\n",
    "\n",
    "我们可以使用简单的python代码实现它：\n",
    "\n",
    ".. code:: python\n",
    "\n",
    "    learning_rate = 0.01\n",
    "    for f in net.parameters():\n",
    "        f.data.sub_(f.grad.data * learning_rate)\n",
    "\n",
    "但是，当您使用神经网络时，您希望使用各种不同的更新规则，例如SGD，Nesterov-SGD，Adam，RMSProp等。\n",
    "为了实现这一点，我们构建了一个小包：``torch.optim``，它实现了所有这些方法。非常容易使用：\n",
    "\n"
   ]
  },
  {
   "cell_type": "code",
   "execution_count": null,
   "metadata": {
    "collapsed": true
   },
   "outputs": [],
   "source": [
    "import torch.optim as optim\n",
    "\n",
    "# create your optimizer\n",
    "optimizer = optim.SGD(net.parameters(), lr=0.01)\n",
    "\n",
    "# in your training loop:\n",
    "optimizer.zero_grad()   # 将梯度缓冲区归零\n",
    "output = net(input)\n",
    "loss = criterion(output, target)\n",
    "loss.backward()\n",
    "optimizer.step()    # 更新"
   ]
  },
  {
   "cell_type": "markdown",
   "metadata": {},
   "source": [
    "注意\n",
    "\n",
    "  观察如何使用``optimizer.zero_grad()``手动将梯度缓冲区设置为零。这是因为梯度是按照`Backprop`部分中的说明累积的。\n",
    "\n",
    "\n"
   ]
  },
  {
   "cell_type": "code",
   "execution_count": null,
   "metadata": {
    "collapsed": true
   },
   "outputs": [],
   "source": []
  }
 ],
 "metadata": {
  "kernelspec": {
   "display_name": "Python 3",
   "language": "python",
   "name": "python3"
  },
  "language_info": {
   "codemirror_mode": {
    "name": "ipython",
    "version": 3
   },
   "file_extension": ".py",
   "mimetype": "text/x-python",
   "name": "python",
   "nbconvert_exporter": "python",
   "pygments_lexer": "ipython3",
   "version": "3.6.2"
  }
 },
 "nbformat": 4,
 "nbformat_minor": 1
}
